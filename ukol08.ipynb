{
 "cells": [
  {
   "cell_type": "code",
   "execution_count": 5,
   "metadata": {},
   "outputs": [],
   "source": [
    "import pandas"
   ]
  },
  {
   "cell_type": "code",
   "execution_count": 7,
   "metadata": {},
   "outputs": [
    {
     "name": "stdout",
     "output_type": "stream",
     "text": [
      "       id             nazev_cz                     nazev_en       trida_cz  \\\n",
      "0       7          Šváb syčivý  Madagascar giant cockroach      Bezobratlí   \n",
      "1       8  Pakobylka okřídlená     Pink-winged stick insect     Bezobratlí   \n",
      "2      16                Tayra                        Tayra          Savci   \n",
      "3      35        Kajmanka supí    Alligator snapping turtle          Plazi   \n",
      "4      37      Želva žlutočelá       Indochinese box turtle          Plazi   \n",
      "..    ...                  ...                          ...            ...   \n",
      "508  1417  Rosnice šalamounská                               Obojživelníci   \n",
      "509  1418       Létavka obecná                               Obojživelníci   \n",
      "510  1419          Bažant paví                                       Ptáci   \n",
      "511  1420  Sojkovec rezavouchý                                       Ptáci   \n",
      "512  1421   Kachnice kaštanová                                       Ptáci   \n",
      "\n",
      "     cena  k_prohlidce  \n",
      "0    1000            1  \n",
      "1    1000            1  \n",
      "2    5000            1  \n",
      "3    2000            1  \n",
      "4    1000            1  \n",
      "..    ...          ...  \n",
      "508  1000            1  \n",
      "509  1000            1  \n",
      "510  1000            1  \n",
      "511  1000            1  \n",
      "512  1000            1  \n",
      "\n",
      "[513 rows x 6 columns]\n"
     ]
    }
   ],
   "source": [
    "adopce = pandas.read_csv(\"adopce-zvirat.csv\", sep=\";\")\n",
    "print(adopce)"
   ]
  },
  {
   "cell_type": "code",
   "execution_count": 8,
   "metadata": {},
   "outputs": [
    {
     "name": "stdout",
     "output_type": "stream",
     "text": [
      "<class 'pandas.core.frame.DataFrame'>\n",
      "RangeIndex: 513 entries, 0 to 512\n",
      "Data columns (total 6 columns):\n",
      " #   Column       Non-Null Count  Dtype \n",
      "---  ------       --------------  ----- \n",
      " 0   id           513 non-null    int64 \n",
      " 1   nazev_cz     513 non-null    object\n",
      " 2   nazev_en     513 non-null    object\n",
      " 3   trida_cz     513 non-null    object\n",
      " 4   cena         513 non-null    int64 \n",
      " 5   k_prohlidce  513 non-null    int64 \n",
      "dtypes: int64(3), object(3)\n",
      "memory usage: 24.2+ KB\n"
     ]
    }
   ],
   "source": [
    "adopce.info()"
   ]
  },
  {
   "cell_type": "code",
   "execution_count": 10,
   "metadata": {},
   "outputs": [
    {
     "data": {
      "text/plain": [
       "(513, 6)"
      ]
     },
     "execution_count": 10,
     "metadata": {},
     "output_type": "execute_result"
    }
   ],
   "source": [
    "adopce.shape"
   ]
  },
  {
   "cell_type": "code",
   "execution_count": 11,
   "metadata": {},
   "outputs": [
    {
     "data": {
      "text/plain": [
       "Index(['id', 'nazev_cz', 'nazev_en', 'trida_cz', 'cena', 'k_prohlidce'], dtype='object')"
      ]
     },
     "execution_count": 11,
     "metadata": {},
     "output_type": "execute_result"
    }
   ],
   "source": [
    "adopce.columns"
   ]
  },
  {
   "cell_type": "code",
   "execution_count": 12,
   "metadata": {},
   "outputs": [
    {
     "data": {
      "text/plain": [
       "id                     99\n",
       "nazev_cz        Ibis bílý\n",
       "nazev_en       White ibis\n",
       "trida_cz            Ptáci\n",
       "cena                 3000\n",
       "k_prohlidce             1\n",
       "Name: 34, dtype: object"
      ]
     },
     "execution_count": 12,
     "metadata": {},
     "output_type": "execute_result"
    }
   ],
   "source": [
    "adopce.iloc[34]"
   ]
  },
  {
   "cell_type": "code",
   "execution_count": 17,
   "metadata": {},
   "outputs": [
    {
     "name": "stdout",
     "output_type": "stream",
     "text": [
      "Ibis bílý\n"
     ]
    }
   ],
   "source": [
    "nazev = adopce [\"nazev_cz\"]\n",
    "print(nazev[34])"
   ]
  },
  {
   "cell_type": "code",
   "execution_count": 18,
   "metadata": {},
   "outputs": [
    {
     "name": "stdout",
     "output_type": "stream",
     "text": [
      "White ibis\n"
     ]
    }
   ],
   "source": [
    "jmeno = adopce[\"nazev_en\"]\n",
    "print(jmeno[34])"
   ]
  },
  {
   "cell_type": "code",
   "execution_count": 27,
   "metadata": {},
   "outputs": [
    {
     "name": "stdout",
     "output_type": "stream",
     "text": [
      "       id            nazev_cz nazev_en trida_cz  cena  k_prohlidce\n",
      "512  1421  Kachnice kaštanová             Ptáci  1000            1\n"
     ]
    }
   ],
   "source": [
    "print(adopce.iloc[-1:])"
   ]
  }
 ],
 "metadata": {
  "kernelspec": {
   "display_name": "Python 3",
   "language": "python",
   "name": "python3"
  },
  "language_info": {
   "codemirror_mode": {
    "name": "ipython",
    "version": 3
   },
   "file_extension": ".py",
   "mimetype": "text/x-python",
   "name": "python",
   "nbconvert_exporter": "python",
   "pygments_lexer": "ipython3",
   "version": "3.9.10"
  },
  "orig_nbformat": 4
 },
 "nbformat": 4,
 "nbformat_minor": 2
}
